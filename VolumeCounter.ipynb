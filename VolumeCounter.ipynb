{
 "cells": [
  {
   "cell_type": "code",
   "execution_count": null,
   "metadata": {},
   "outputs": [],
   "source": [
    "from volcount import Improc\n",
    "import ipywidgets as ipw\n",
    "\n",
    "import warnings\n",
    "warnings.filterwarnings('ignore')"
   ]
  },
  {
   "cell_type": "code",
   "execution_count": null,
   "metadata": {},
   "outputs": [],
   "source": [
    "improc = Improc()"
   ]
  },
  {
   "cell_type": "markdown",
   "metadata": {},
   "source": [
    "1. Select one or more files to analyze\n",
    "2. Hit \"Click to process\" and wait until end of processing\n",
    "3. Select one of those files for visualization\n",
    "4. Hit \"Update visualization\". This shows a 3D rendering with:\n",
    "    - Image data shown in red, \n",
    "    - Segmentation shown in green\n",
    "    - Analyzed region shown in blue\n",
    "5. Adjust the z scaling and use the controls on the bottom of image to improve visualization\n",
    "6. Zoom by using the magnification glass and scrolling with the mouse wheel\n",
    "7. Save the analysis by hitting \"Finished zipping!\""
   ]
  },
  {
   "cell_type": "code",
   "execution_count": null,
   "metadata": {},
   "outputs": [],
   "source": [
    "address = 'http://localhost:8888/'\n",
    "myHTML = ipw.HTML('<a href=\"'+address+'\"'+' target=\"_blank\"><b>Follow this link and use \"New->Folder\" and \"Upload\" to import images<b></a>')\n",
    "\n",
    "ipw.VBox([myHTML,\n",
    "    ipw.HBox([improc.folders.file_list,\n",
    "          ipw.VBox([improc.process_button,improc.update_button,\n",
    "                   improc.scalingfactor,improc.zip_button])\n",
    "         ]),\n",
    "    improc.out\n",
    "])"
   ]
  },
  {
   "cell_type": "code",
   "execution_count": null,
   "metadata": {},
   "outputs": [],
   "source": []
  }
 ],
 "metadata": {
  "kernelspec": {
   "display_name": "Python 3",
   "language": "python",
   "name": "python3"
  },
  "language_info": {
   "codemirror_mode": {
    "name": "ipython",
    "version": 3
   },
   "file_extension": ".py",
   "mimetype": "text/x-python",
   "name": "python",
   "nbconvert_exporter": "python",
   "pygments_lexer": "ipython3",
   "version": "3.8.0"
  },
  "toc": {
   "base_numbering": 1,
   "nav_menu": {},
   "number_sections": false,
   "sideBar": true,
   "skip_h1_title": false,
   "title_cell": "Table of Contents",
   "title_sidebar": "Contents",
   "toc_cell": false,
   "toc_position": {},
   "toc_section_display": true,
   "toc_window_display": true
  }
 },
 "nbformat": 4,
 "nbformat_minor": 4
}
